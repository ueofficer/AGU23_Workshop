{
  "nbformat": 4,
  "nbformat_minor": 0,
  "metadata": {
    "colab": {
      "provenance": [],
      "authorship_tag": "ABX9TyMsxPN1mEAsjP6CnvJ+Y9Yv",
      "include_colab_link": true
    },
    "kernelspec": {
      "name": "python3",
      "display_name": "Python 3"
    },
    "language_info": {
      "name": "python"
    }
  },
  "cells": [
    {
      "cell_type": "markdown",
      "metadata": {
        "id": "view-in-github",
        "colab_type": "text"
      },
      "source": [
        "<a href=\"https://colab.research.google.com/github/ueofficer/AGU23_Workshop/blob/main/Colab_Review.ipynb\" target=\"_parent\"><img src=\"https://colab.research.google.com/assets/colab-badge.svg\" alt=\"Open In Colab\"/></a>"
      ]
    },
    {
      "cell_type": "code",
      "execution_count": null,
      "metadata": {
        "colab": {
          "base_uri": "https://localhost:8080/"
        },
        "id": "ZgQYcDTTaYRb",
        "outputId": "34ee9a9e-8988-4ab1-b66b-a3e3fedb1f47"
      },
      "outputs": [
        {
          "output_type": "stream",
          "name": "stdout",
          "text": [
            "/content\n"
          ]
        }
      ],
      "source": [
        "cd /content"
      ]
    },
    {
      "cell_type": "code",
      "source": [
        "!git clone https://github.com/ueofficer/AGU23_Workshop.git"
      ],
      "metadata": {
        "id": "sy6HZd6-bdVn"
      },
      "execution_count": null,
      "outputs": []
    },
    {
      "cell_type": "code",
      "source": [
        "import shutil"
      ],
      "metadata": {
        "id": "mdwKwLUk1LFB"
      },
      "execution_count": null,
      "outputs": []
    },
    {
      "cell_type": "code",
      "source": [
        "shutil.rmtree('/AGU23_Workshop/AGU23_Workshop', ignore_errors=True)"
      ],
      "metadata": {
        "id": "tGY2kX2A1MFm"
      },
      "execution_count": null,
      "outputs": []
    },
    {
      "cell_type": "code",
      "source": [
        "cd /content/AGU23_Workshop/"
      ],
      "metadata": {
        "colab": {
          "base_uri": "https://localhost:8080/"
        },
        "id": "Xtz62Yozbfwo",
        "outputId": "c7a5e557-3101-4e9e-9941-77571243ad74"
      },
      "execution_count": null,
      "outputs": [
        {
          "output_type": "stream",
          "name": "stdout",
          "text": [
            "/content/AGU23_Workshop\n"
          ]
        }
      ]
    },
    {
      "cell_type": "code",
      "source": [
        "ls"
      ],
      "metadata": {
        "id": "B7GiWqeEbtpO",
        "colab": {
          "base_uri": "https://localhost:8080/"
        },
        "outputId": "118f017b-30b7-45c4-edc7-74d3ea6750f2"
      },
      "execution_count": null,
      "outputs": [
        {
          "output_type": "stream",
          "name": "stdout",
          "text": [
            "\u001b[0m\u001b[01;34mAGU23_Workshop\u001b[0m/  devices.csv  README.md\n"
          ]
        }
      ]
    },
    {
      "cell_type": "code",
      "source": [
        "import pandas as pd\n",
        "data = pd.read_csv(\"devices.csv\")\n",
        "data"
      ],
      "metadata": {
        "colab": {
          "base_uri": "https://localhost:8080/",
          "height": 991
        },
        "id": "qRcYYTAVxwia",
        "outputId": "a0476b82-e66a-4bc2-93ea-fab30fc838c7"
      },
      "execution_count": null,
      "outputs": [
        {
          "output_type": "execute_result",
          "data": {
            "text/plain": [
              "      Unnamed: 0                                             cvTerm  \\\n",
              "0              0                                     {'device': []}   \n",
              "1              1  {'device': [{'uri': 'http://vocab.nerc.ac.uk/c...   \n",
              "2              2  {'device': [{'uri': 'http://vocab.nerc.ac.uk/c...   \n",
              "3              3                                     {'device': []}   \n",
              "4              4                                     {'device': []}   \n",
              "...          ...                                                ...   \n",
              "2664        2664                                     {'device': []}   \n",
              "2665        2665                                     {'device': []}   \n",
              "2666        2666                                     {'device': []}   \n",
              "2667        2667                                     {'device': []}   \n",
              "2668        2668                                     {'device': []}   \n",
              "\n",
              "                                             dataRating deviceCategoryCode  \\\n",
              "0     [{'dateFrom': '2015-09-01T19:12:11.000Z', 'dat...             TARRAY   \n",
              "1     [{'dateFrom': '2008-11-01T00:00:00.000Z', 'dat...          OXYSENSOR   \n",
              "2     [{'dateFrom': '2015-09-11T00:03:38.000Z', 'dat...          OXYSENSOR   \n",
              "3     [{'dateFrom': '2016-08-16T17:42:41.000Z', 'dat...          CO2SENSOR   \n",
              "4     [{'dateFrom': '2016-08-01T21:00:29.000Z', 'dat...          CO2SENSOR   \n",
              "...                                                 ...                ...   \n",
              "2664  [{'dateFrom': '2020-02-13T00:00:00.000Z', 'dat...                NAV   \n",
              "2665  [{'dateFrom': '2020-05-01T14:21:57.000Z', 'dat...                NAV   \n",
              "2666  [{'dateFrom': '2020-05-01T14:23:36.000Z', 'dat...                NAV   \n",
              "2667                                                 []           VIDEOCAM   \n",
              "2668  [{'dateFrom': '2015-05-01T03:13:37.000Z', 'dat...                NAV   \n",
              "\n",
              "                    deviceCode  deviceId  \\\n",
              "0                3DTEMPARRAY01     23624   \n",
              "1                AA02_3830_910     12110   \n",
              "2            AANDERAA3830SN871     23610   \n",
              "3     AANDERAA4797PCO2OPTODE33     22670   \n",
              "4     AANDERAA4797PCO2OPTODE43     23603   \n",
              "...                        ...       ...   \n",
              "2664    XSLATED10SY9560FS00338     27840   \n",
              "2665    XSLATED10SY9560JS01231     44140   \n",
              "2666    XSLATED10SY9560JS01406     44120   \n",
              "2667        XWING-HDWebcam1088     23022   \n",
              "2668               ZEUSIINAV01     22964   \n",
              "\n",
              "                                             deviceLink  \\\n",
              "0     http://data.oceannetworks.ca/DeviceListing?Dev...   \n",
              "1     http://data.oceannetworks.ca/DeviceListing?Dev...   \n",
              "2     http://data.oceannetworks.ca/DeviceListing?Dev...   \n",
              "3     http://data.oceannetworks.ca/DeviceListing?Dev...   \n",
              "4     http://data.oceannetworks.ca/DeviceListing?Dev...   \n",
              "...                                                 ...   \n",
              "2664  http://data.oceannetworks.ca/DeviceListing?Dev...   \n",
              "2665  http://data.oceannetworks.ca/DeviceListing?Dev...   \n",
              "2666  http://data.oceannetworks.ca/DeviceListing?Dev...   \n",
              "2667  http://data.oceannetworks.ca/DeviceListing?Dev...   \n",
              "2668  http://data.oceannetworks.ca/DeviceListing?Dev...   \n",
              "\n",
              "                                 deviceName  hasDeviceData  \n",
              "0                   3D Temperature Array 01           True  \n",
              "1            Aanderaa Optode 3830 (S/N 910)           True  \n",
              "2            Aanderaa Optode 3830 (S/N 871)           True  \n",
              "3        Aanderaa Optode 4797 pCO2 (S/N 33)           True  \n",
              "4        Aanderaa Optode 4797 pCO2 (S/N 43)           True  \n",
              "...                                     ...            ...  \n",
              "2664  XSlate D10 Tablet (S/N SY9560FS00338)           True  \n",
              "2665  XSlate D10 Tablet (S/N SY9560JS01231)           True  \n",
              "2666  XSlate D10 Tablet (S/N SY9560JS01406)           True  \n",
              "2667              Axis Q6304 HD Webcam 1088           True  \n",
              "2668              Zeus II ROV Navigation 01           True  \n",
              "\n",
              "[2669 rows x 9 columns]"
            ],
            "text/html": [
              "\n",
              "  <div id=\"df-121143b1-d62d-45ee-9d93-6544acb2d671\">\n",
              "    <div class=\"colab-df-container\">\n",
              "      <div>\n",
              "<style scoped>\n",
              "    .dataframe tbody tr th:only-of-type {\n",
              "        vertical-align: middle;\n",
              "    }\n",
              "\n",
              "    .dataframe tbody tr th {\n",
              "        vertical-align: top;\n",
              "    }\n",
              "\n",
              "    .dataframe thead th {\n",
              "        text-align: right;\n",
              "    }\n",
              "</style>\n",
              "<table border=\"1\" class=\"dataframe\">\n",
              "  <thead>\n",
              "    <tr style=\"text-align: right;\">\n",
              "      <th></th>\n",
              "      <th>Unnamed: 0</th>\n",
              "      <th>cvTerm</th>\n",
              "      <th>dataRating</th>\n",
              "      <th>deviceCategoryCode</th>\n",
              "      <th>deviceCode</th>\n",
              "      <th>deviceId</th>\n",
              "      <th>deviceLink</th>\n",
              "      <th>deviceName</th>\n",
              "      <th>hasDeviceData</th>\n",
              "    </tr>\n",
              "  </thead>\n",
              "  <tbody>\n",
              "    <tr>\n",
              "      <th>0</th>\n",
              "      <td>0</td>\n",
              "      <td>{'device': []}</td>\n",
              "      <td>[{'dateFrom': '2015-09-01T19:12:11.000Z', 'dat...</td>\n",
              "      <td>TARRAY</td>\n",
              "      <td>3DTEMPARRAY01</td>\n",
              "      <td>23624</td>\n",
              "      <td>http://data.oceannetworks.ca/DeviceListing?Dev...</td>\n",
              "      <td>3D Temperature Array 01</td>\n",
              "      <td>True</td>\n",
              "    </tr>\n",
              "    <tr>\n",
              "      <th>1</th>\n",
              "      <td>1</td>\n",
              "      <td>{'device': [{'uri': 'http://vocab.nerc.ac.uk/c...</td>\n",
              "      <td>[{'dateFrom': '2008-11-01T00:00:00.000Z', 'dat...</td>\n",
              "      <td>OXYSENSOR</td>\n",
              "      <td>AA02_3830_910</td>\n",
              "      <td>12110</td>\n",
              "      <td>http://data.oceannetworks.ca/DeviceListing?Dev...</td>\n",
              "      <td>Aanderaa Optode 3830 (S/N 910)</td>\n",
              "      <td>True</td>\n",
              "    </tr>\n",
              "    <tr>\n",
              "      <th>2</th>\n",
              "      <td>2</td>\n",
              "      <td>{'device': [{'uri': 'http://vocab.nerc.ac.uk/c...</td>\n",
              "      <td>[{'dateFrom': '2015-09-11T00:03:38.000Z', 'dat...</td>\n",
              "      <td>OXYSENSOR</td>\n",
              "      <td>AANDERAA3830SN871</td>\n",
              "      <td>23610</td>\n",
              "      <td>http://data.oceannetworks.ca/DeviceListing?Dev...</td>\n",
              "      <td>Aanderaa Optode 3830 (S/N 871)</td>\n",
              "      <td>True</td>\n",
              "    </tr>\n",
              "    <tr>\n",
              "      <th>3</th>\n",
              "      <td>3</td>\n",
              "      <td>{'device': []}</td>\n",
              "      <td>[{'dateFrom': '2016-08-16T17:42:41.000Z', 'dat...</td>\n",
              "      <td>CO2SENSOR</td>\n",
              "      <td>AANDERAA4797PCO2OPTODE33</td>\n",
              "      <td>22670</td>\n",
              "      <td>http://data.oceannetworks.ca/DeviceListing?Dev...</td>\n",
              "      <td>Aanderaa Optode 4797 pCO2 (S/N 33)</td>\n",
              "      <td>True</td>\n",
              "    </tr>\n",
              "    <tr>\n",
              "      <th>4</th>\n",
              "      <td>4</td>\n",
              "      <td>{'device': []}</td>\n",
              "      <td>[{'dateFrom': '2016-08-01T21:00:29.000Z', 'dat...</td>\n",
              "      <td>CO2SENSOR</td>\n",
              "      <td>AANDERAA4797PCO2OPTODE43</td>\n",
              "      <td>23603</td>\n",
              "      <td>http://data.oceannetworks.ca/DeviceListing?Dev...</td>\n",
              "      <td>Aanderaa Optode 4797 pCO2 (S/N 43)</td>\n",
              "      <td>True</td>\n",
              "    </tr>\n",
              "    <tr>\n",
              "      <th>...</th>\n",
              "      <td>...</td>\n",
              "      <td>...</td>\n",
              "      <td>...</td>\n",
              "      <td>...</td>\n",
              "      <td>...</td>\n",
              "      <td>...</td>\n",
              "      <td>...</td>\n",
              "      <td>...</td>\n",
              "      <td>...</td>\n",
              "    </tr>\n",
              "    <tr>\n",
              "      <th>2664</th>\n",
              "      <td>2664</td>\n",
              "      <td>{'device': []}</td>\n",
              "      <td>[{'dateFrom': '2020-02-13T00:00:00.000Z', 'dat...</td>\n",
              "      <td>NAV</td>\n",
              "      <td>XSLATED10SY9560FS00338</td>\n",
              "      <td>27840</td>\n",
              "      <td>http://data.oceannetworks.ca/DeviceListing?Dev...</td>\n",
              "      <td>XSlate D10 Tablet (S/N SY9560FS00338)</td>\n",
              "      <td>True</td>\n",
              "    </tr>\n",
              "    <tr>\n",
              "      <th>2665</th>\n",
              "      <td>2665</td>\n",
              "      <td>{'device': []}</td>\n",
              "      <td>[{'dateFrom': '2020-05-01T14:21:57.000Z', 'dat...</td>\n",
              "      <td>NAV</td>\n",
              "      <td>XSLATED10SY9560JS01231</td>\n",
              "      <td>44140</td>\n",
              "      <td>http://data.oceannetworks.ca/DeviceListing?Dev...</td>\n",
              "      <td>XSlate D10 Tablet (S/N SY9560JS01231)</td>\n",
              "      <td>True</td>\n",
              "    </tr>\n",
              "    <tr>\n",
              "      <th>2666</th>\n",
              "      <td>2666</td>\n",
              "      <td>{'device': []}</td>\n",
              "      <td>[{'dateFrom': '2020-05-01T14:23:36.000Z', 'dat...</td>\n",
              "      <td>NAV</td>\n",
              "      <td>XSLATED10SY9560JS01406</td>\n",
              "      <td>44120</td>\n",
              "      <td>http://data.oceannetworks.ca/DeviceListing?Dev...</td>\n",
              "      <td>XSlate D10 Tablet (S/N SY9560JS01406)</td>\n",
              "      <td>True</td>\n",
              "    </tr>\n",
              "    <tr>\n",
              "      <th>2667</th>\n",
              "      <td>2667</td>\n",
              "      <td>{'device': []}</td>\n",
              "      <td>[]</td>\n",
              "      <td>VIDEOCAM</td>\n",
              "      <td>XWING-HDWebcam1088</td>\n",
              "      <td>23022</td>\n",
              "      <td>http://data.oceannetworks.ca/DeviceListing?Dev...</td>\n",
              "      <td>Axis Q6304 HD Webcam 1088</td>\n",
              "      <td>True</td>\n",
              "    </tr>\n",
              "    <tr>\n",
              "      <th>2668</th>\n",
              "      <td>2668</td>\n",
              "      <td>{'device': []}</td>\n",
              "      <td>[{'dateFrom': '2015-05-01T03:13:37.000Z', 'dat...</td>\n",
              "      <td>NAV</td>\n",
              "      <td>ZEUSIINAV01</td>\n",
              "      <td>22964</td>\n",
              "      <td>http://data.oceannetworks.ca/DeviceListing?Dev...</td>\n",
              "      <td>Zeus II ROV Navigation 01</td>\n",
              "      <td>True</td>\n",
              "    </tr>\n",
              "  </tbody>\n",
              "</table>\n",
              "<p>2669 rows × 9 columns</p>\n",
              "</div>\n",
              "      <button class=\"colab-df-convert\" onclick=\"convertToInteractive('df-121143b1-d62d-45ee-9d93-6544acb2d671')\"\n",
              "              title=\"Convert this dataframe to an interactive table.\"\n",
              "              style=\"display:none;\">\n",
              "        \n",
              "  <svg xmlns=\"http://www.w3.org/2000/svg\" height=\"24px\"viewBox=\"0 0 24 24\"\n",
              "       width=\"24px\">\n",
              "    <path d=\"M0 0h24v24H0V0z\" fill=\"none\"/>\n",
              "    <path d=\"M18.56 5.44l.94 2.06.94-2.06 2.06-.94-2.06-.94-.94-2.06-.94 2.06-2.06.94zm-11 1L8.5 8.5l.94-2.06 2.06-.94-2.06-.94L8.5 2.5l-.94 2.06-2.06.94zm10 10l.94 2.06.94-2.06 2.06-.94-2.06-.94-.94-2.06-.94 2.06-2.06.94z\"/><path d=\"M17.41 7.96l-1.37-1.37c-.4-.4-.92-.59-1.43-.59-.52 0-1.04.2-1.43.59L10.3 9.45l-7.72 7.72c-.78.78-.78 2.05 0 2.83L4 21.41c.39.39.9.59 1.41.59.51 0 1.02-.2 1.41-.59l7.78-7.78 2.81-2.81c.8-.78.8-2.07 0-2.86zM5.41 20L4 18.59l7.72-7.72 1.47 1.35L5.41 20z\"/>\n",
              "  </svg>\n",
              "      </button>\n",
              "      \n",
              "  <style>\n",
              "    .colab-df-container {\n",
              "      display:flex;\n",
              "      flex-wrap:wrap;\n",
              "      gap: 12px;\n",
              "    }\n",
              "\n",
              "    .colab-df-convert {\n",
              "      background-color: #E8F0FE;\n",
              "      border: none;\n",
              "      border-radius: 50%;\n",
              "      cursor: pointer;\n",
              "      display: none;\n",
              "      fill: #1967D2;\n",
              "      height: 32px;\n",
              "      padding: 0 0 0 0;\n",
              "      width: 32px;\n",
              "    }\n",
              "\n",
              "    .colab-df-convert:hover {\n",
              "      background-color: #E2EBFA;\n",
              "      box-shadow: 0px 1px 2px rgba(60, 64, 67, 0.3), 0px 1px 3px 1px rgba(60, 64, 67, 0.15);\n",
              "      fill: #174EA6;\n",
              "    }\n",
              "\n",
              "    [theme=dark] .colab-df-convert {\n",
              "      background-color: #3B4455;\n",
              "      fill: #D2E3FC;\n",
              "    }\n",
              "\n",
              "    [theme=dark] .colab-df-convert:hover {\n",
              "      background-color: #434B5C;\n",
              "      box-shadow: 0px 1px 3px 1px rgba(0, 0, 0, 0.15);\n",
              "      filter: drop-shadow(0px 1px 2px rgba(0, 0, 0, 0.3));\n",
              "      fill: #FFFFFF;\n",
              "    }\n",
              "  </style>\n",
              "\n",
              "      <script>\n",
              "        const buttonEl =\n",
              "          document.querySelector('#df-121143b1-d62d-45ee-9d93-6544acb2d671 button.colab-df-convert');\n",
              "        buttonEl.style.display =\n",
              "          google.colab.kernel.accessAllowed ? 'block' : 'none';\n",
              "\n",
              "        async function convertToInteractive(key) {\n",
              "          const element = document.querySelector('#df-121143b1-d62d-45ee-9d93-6544acb2d671');\n",
              "          const dataTable =\n",
              "            await google.colab.kernel.invokeFunction('convertToInteractive',\n",
              "                                                     [key], {});\n",
              "          if (!dataTable) return;\n",
              "\n",
              "          const docLinkHtml = 'Like what you see? Visit the ' +\n",
              "            '<a target=\"_blank\" href=https://colab.research.google.com/notebooks/data_table.ipynb>data table notebook</a>'\n",
              "            + ' to learn more about interactive tables.';\n",
              "          element.innerHTML = '';\n",
              "          dataTable['output_type'] = 'display_data';\n",
              "          await google.colab.output.renderOutput(dataTable, element);\n",
              "          const docLink = document.createElement('div');\n",
              "          docLink.innerHTML = docLinkHtml;\n",
              "          element.appendChild(docLink);\n",
              "        }\n",
              "      </script>\n",
              "    </div>\n",
              "  </div>\n",
              "  "
            ]
          },
          "metadata": {},
          "execution_count": 19
        }
      ]
    }
  ]
}