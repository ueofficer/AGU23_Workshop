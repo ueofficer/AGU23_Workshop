{
  "nbformat": 4,
  "nbformat_minor": 0,
  "metadata": {
    "colab": {
      "provenance": [],
      "include_colab_link": true
    },
    "kernelspec": {
      "name": "python3",
      "display_name": "Python 3"
    },
    "language_info": {
      "name": "python"
    }
  },
  "cells": [
    {
      "cell_type": "markdown",
      "metadata": {
        "id": "view-in-github",
        "colab_type": "text"
      },
      "source": [
        "<a href=\"https://colab.research.google.com/github/ueofficer/AGU23_Workshop/blob/main/AGU23_WorkingFile.ipynb\" target=\"_parent\"><img src=\"https://colab.research.google.com/assets/colab-badge.svg\" alt=\"Open In Colab\"/></a>"
      ]
    },
    {
      "cell_type": "markdown",
      "source": [
        "# **This notebook is developed for AGU 2023**\n",
        "\n",
        "## Example 1 - Conductivity Temperature Depth\n",
        "\n",
        "Data Product - Time Series Scalar Data (define *CTD, data columns,*)\n",
        "\n",
        "Location - Folger Passage > Folger Deep\n",
        "\n",
        "Period - 06-Jul-2013 to 07-Jul-2023"
      ],
      "metadata": {
        "id": "xoyrqeZARuIC"
      }
    },
    {
      "cell_type": "markdown",
      "source": [
        "## Request Data Product\n",
        "\n",
        "Jan 15, 9:05"
      ],
      "metadata": {
        "id": "ciyip-QlQBYr"
      }
    },
    {
      "cell_type": "code",
      "source": [
        "import requests\n",
        "import json\n",
        "import pandas as pd"
      ],
      "metadata": {
        "id": "mNveJfe2iy0n"
      },
      "execution_count": 1,
      "outputs": []
    },
    {
      "cell_type": "code",
      "source": [
        "url = 'https://data.oceannetworks.ca/api/dataProductDelivery'\n",
        "parameters = {'method':'request',\n",
        "            'token':'7cc08ace-86d7-4136-9dcd-dd73017d35ae',\n",
        "            'locationCode':'FGPD',\n",
        "            'deviceCategoryCode':'CTD',\n",
        "            'dataProductCode':'TSSD',\n",
        "            'dateFrom':'2022-01-15T15:00:00.000Z',\n",
        "            'dateTo':'2022-01-15T21:00:00.000Z',\n",
        "            'extension':'csv',\n",
        "            'dpo_qualityControl':'0',\n",
        "            'dpo_dataGaps':'1',\n",
        "            'dpo_resample':'none'} # replace YOUR_TOKEN_HERE with your personal token obtained from the 'Web Services API' tab at https://data.oceannetworks.ca/Profile when logged in.\n",
        "\n",
        "response = requests.get(url,params=parameters)\n",
        "\n"
      ],
      "metadata": {
        "id": "Eb-SAcq3jZof"
      },
      "execution_count": 2,
      "outputs": []
    },
    {
      "cell_type": "code",
      "source": [
        "if (response.ok):\n",
        "    requestInfo = json.loads(str(response.content,'utf-8')) # convert the json response to an object\n",
        "\n",
        "    print('Request Id: {}'.format(requestInfo['dpRequestId']))      # Print the Request Id\n",
        "\n",
        "    if ('numFiles' in requestInfo.keys()):\n",
        "        print('File Count: {}'.format(requestInfo['numFiles']))     # Print the Estimated File Size\n",
        "\n",
        "    if ('fileSize' in requestInfo.keys()):\n",
        "        print('File Size: {}'.format(requestInfo['fileSize']))      # Print the Estimated File Size\n",
        "\n",
        "    if 'downloadTimes' in requestInfo.keys():\n",
        "        print('Estimated download time:')\n",
        "        for e in sorted(requestInfo['downloadTimes'].items(),key=lambda t: t[1]):\n",
        "            print('  {} - {} sec'.format(e[0],'{:0.2f}'.format(e[1])))\n",
        "\n",
        "\n",
        "    if 'estimatedFileSize' in requestInfo.keys():\n",
        "        print('Estimated File Size: {}'.format(requestInfo['estimatedFileSize']))\n",
        "\n",
        "    if 'estimatedProcessingTime' in requestInfo.keys():\n",
        "        print('Estimated Processing Time: {}'.format(requestInfo['estimatedProcessingTime']))\n",
        "\n",
        "else:\n",
        "    if(response.status_code == 400):\n",
        "        error = json.loads(str(response.content,'utf-8'))\n",
        "        print(error) # json response contains a list of errors, with an errorMessage and parameter\n",
        "    else:\n",
        "        print ('Error {} - {}'.format(response.status_code,response.reason))"
      ],
      "metadata": {
        "colab": {
          "base_uri": "https://localhost:8080/"
        },
        "id": "Dcr6b_269Tjh",
        "outputId": "51988890-67bf-4b98-db38-542288c2d1e8"
      },
      "execution_count": 3,
      "outputs": [
        {
          "output_type": "stream",
          "name": "stdout",
          "text": [
            "Request Id: 15162479\n",
            "Estimated File Size: No estimated file size available.\n",
            "Estimated Processing Time: No estimated processing time available.\n"
          ]
        }
      ]
    },
    {
      "cell_type": "code",
      "source": [
        "import requests\n",
        "import json\n",
        "\n",
        "url = 'https://data.oceannetworks.ca/api/dataProductDelivery'\n",
        "parameters = {'method':'run',\n",
        "            'token':'7cc08ace-86d7-4136-9dcd-dd73017d35ae',              # replace YOUR_TOKEN_HERE with your personal token obtained from the 'Web Services API' tab at https://data.oceannetworks.ca/Profile when logged in.\n",
        "           'dpRequestId':15162479}     # replace YOUR_REQUEST_ID_HERE with a requestId number returned from the request method\n",
        "response = requests.get(url,params=parameters)\n",
        "\n",
        "if (response.ok):\n",
        "    r = json.loads(str(response.content,'utf-8')) # convert the json response to an object\n",
        "\n",
        "    for runId in [run['dpRunId'] for run in r]:\n",
        "        print('Run Id: {}'.format(runId))       # Print each of the Run Ids\n",
        "\n",
        "else:\n",
        "    if(response.status_code == 400):\n",
        "        error = json.loads(str(response.content,'utf-8'))\n",
        "        print(error) # json response contains a list of errors, with an errorMessage and parameter\n",
        "    else:\n",
        "        print ('Error {} - {}'.format(response.status_code,response.reason))"
      ],
      "metadata": {
        "colab": {
          "base_uri": "https://localhost:8080/"
        },
        "id": "hsj0nP9sDCYW",
        "outputId": "675bf3a7-3b6a-4d14-ed81-5c852d96c699"
      },
      "execution_count": 4,
      "outputs": [
        {
          "output_type": "stream",
          "name": "stdout",
          "text": [
            "Run Id: 33680742\n"
          ]
        }
      ]
    },
    {
      "cell_type": "code",
      "source": [
        "import requests\n",
        "import json\n",
        "import os\n",
        "from contextlib import closing\n",
        "import errno\n",
        "\n",
        "url = 'https://data.oceannetworks.ca/api/dataProductDelivery'\n",
        "parameters = {'method':'download',\n",
        "            'token':'7cc08ace-86d7-4136-9dcd-dd73017d35ae',   # replace YOUR_TOKEN_HERE with your personal token obtained from the 'Web Services API' tab at https://data.oceannetworks.ca/Profile when logged in..\n",
        "            'dpRunId':33680742,       # replace YOUR_RUN_ID with the dpRunId returned from the 'run' method.\n",
        "            'index':1}                   # for run requests that contain more than one file, change the index number to the index of the file you would like to download.\n",
        "                                           # If the index number does not exist an HTTP 410 and a message will be returned.\n",
        "\n",
        "\n",
        "outPath='C:/Users/tricyaquino/Desktop/TRICY/UE-Officer/AD-HOC/AGU Workshop' # replace with the file location you would like the file to be downloaded to.\n",
        "\n",
        "with closing(requests.get(url,params=parameters,stream=True)) as streamResponse:\n",
        "    if streamResponse.status_code == 200: #OK\n",
        "        if 'Content-Disposition' in streamResponse.headers.keys():\n",
        "            content = streamResponse.headers['Content-Disposition']\n",
        "            filename = content.split('filename=')[1]\n",
        "        else:\n",
        "            print('Error: Invalid Header')\n",
        "            streamResponse.close()\n",
        "            sys.exit(-1)\n",
        "\n",
        "        filePath = '{}/{}'.format(outPath,filename)\n",
        "        try:\n",
        "            if (not os.path.isfile(filePath)):\n",
        "                #Create the directory structure if it doesn't already exist\n",
        "                try:\n",
        "                    os.makedirs(outPath)\n",
        "                except OSError as exc:\n",
        "                    if exc.errno == errno.EEXIST and os.path.isdir(outPath):\n",
        "                        pass\n",
        "                    else:\n",
        "                        raise\n",
        "                print (\"Downloading '{}'\".format(filename))\n",
        "\n",
        "                with open(filePath,'wb') as handle:\n",
        "                    try:\n",
        "                        for block in streamResponse.iter_content(1024):\n",
        "                            handle.write(block)\n",
        "                    except KeyboardInterrupt:\n",
        "                        print('Process interupted: Deleting {}'.format(filePath))\n",
        "                        handle.close()\n",
        "                        streamResponse.close()\n",
        "                        os.remove(filePath)\n",
        "                        sys.exit(-1)\n",
        "            else:\n",
        "                print (\"  Skipping '{}': File Already Exists\".format(filename))\n",
        "        except:\n",
        "            msg = 'Error streaming response.'\n",
        "            print(msg)\n",
        "    else:\n",
        "        if(streamResponse.status_code in [202,204,400,404,410]):\n",
        "            payload = json.loads(str(streamResponse.content,'utf-8'))\n",
        "            if len(payload) >= 1:\n",
        "                msg = payload['message']\n",
        "                print('HTTP {} - {}: {}'.format(streamResponse.status_code,streamResponse.reason,msg))\n",
        "        else:\n",
        "            print ('Error {} - {}'.format(streamResponse.status_code,streamResponse.reason))\n",
        "\n",
        "streamResponse.close()"
      ],
      "metadata": {
        "colab": {
          "base_uri": "https://localhost:8080/"
        },
        "id": "iUDGy_3mDQ3L",
        "outputId": "4b3746eb-0a19-4c02-fc91-e72264694eb8"
      },
      "execution_count": 6,
      "outputs": [
        {
          "output_type": "stream",
          "name": "stdout",
          "text": [
            "Downloading 'FolgerPassage_FolgerDeep_ConductivityTemperatureDepth_20220115T150000Z_20220115T205959Z-NaN.csv'\n"
          ]
        }
      ]
    },
    {
      "cell_type": "code",
      "source": [
        "%pwd"
      ],
      "metadata": {
        "colab": {
          "base_uri": "https://localhost:8080/",
          "height": 36
        },
        "id": "994iHzqX0whA",
        "outputId": "4f3a38ec-7d1e-4bae-f39b-1a6242d3424b"
      },
      "execution_count": 14,
      "outputs": [
        {
          "output_type": "execute_result",
          "data": {
            "text/plain": [
              "'/content'"
            ],
            "application/vnd.google.colaboratory.intrinsic+json": {
              "type": "string"
            }
          },
          "metadata": {},
          "execution_count": 14
        }
      ]
    },
    {
      "cell_type": "markdown",
      "source": [
        "Turn the csv file to a dataframe.\n",
        "\n",
        "Remove header and only include the body of the file.\n",
        "\n",
        "Plot the data\n",
        "\n",
        "De-tide the data\n",
        "\n",
        "Decimate the data"
      ],
      "metadata": {
        "id": "Fz5_8GjN5-Bs"
      }
    },
    {
      "cell_type": "code",
      "source": [
        "df = pd.read_csv('/content/C:/Users/tricyaquino/Desktop/TRICY/UE-Officer/AD-HOC/AGU Workshop/FolgerPassage_FolgerDeep_ConductivityTemperatureDepth_20220115T150000Z_20220115T205959Z-NaN.csv', on_bad_lines='skip', skiprows=51)"
      ],
      "metadata": {
        "id": "udztpUFB12wx"
      },
      "execution_count": 57,
      "outputs": []
    },
    {
      "cell_type": "code",
      "source": [
        "pd.set_option('display.max_columns', None)\n"
      ],
      "metadata": {
        "id": "MdO6wN6N2s6P"
      },
      "execution_count": 58,
      "outputs": []
    },
    {
      "cell_type": "code",
      "source": [
        "print(df)"
      ],
      "metadata": {
        "colab": {
          "base_uri": "https://localhost:8080/"
        },
        "id": "G1lt_DBN9DhE",
        "outputId": "49e71afa-38b8-4697-aed9-4dd909d902f4"
      },
      "execution_count": 59,
      "outputs": [
        {
          "output_type": "stream",
          "name": "stdout",
          "text": [
            "                                                                                                                                                                                                                                                                                                                                                                                 #\"QC Flag (0-9): 0 = no QC; 1 = good; 2 = probably good  \\\n",
            "#\"Time UTC (yyyy-mm-ddThh:mm:ss.fffZ)\"  \"Conductivity (S/m)\"  \"Conductivity QC Flag\"  \"Density (kg/m3)\"  \"Density QC Flag\"  \"Practical Salinity (psu)\"  \"Practical Salinity QC Flag\"  \"Pressure (decibar)\"  \"Pressure QC Flag\"  \"Sigma-t (kg/m3)\"  \"Sigma-t QC Flag\"  \"Sigma-theta (0 dbar) (kg/m3)\"  \"Sigma-theta (0 dbar) QC Flag\"  \"Sound Speed (m/s)\"  \"Sound Speed QC Flag\"                                  \"Temperature (C)\"        \n",
            "## END HEADER                          NaN                   NaN                     NaN                NaN                NaN                         NaN                           NaN                   NaN                 NaN                NaN                NaN                             NaN                             NaN                  NaN                                                                   NaN        \n",
            "2022-01-15T15:00:00.399Z                3.37988               2                       1024.614734183     2                  31.2835                     2                             96.023                1                   24.176711697       2                  24.178258528                    2                               1484                 2                                                                 9.2122        \n",
            "2022-01-15T15:00:01.399Z                3.37988               2                       1024.614753036     2                  31.2836                     2                             96.01                 1                   24.176789859       2                  24.178336484                    2                               1484                 2                                                                 9.2122        \n",
            "2022-01-15T15:00:02.403Z                3.37988               2                       1024.614702284     2                  31.2835                     2                             96.016                1                   24.176711697       2                  24.178258415                    2                               1484                 2                                                                 9.2122        \n",
            "...                                                                                                                                                                                                                                                                                                                                                                                                                             ...        \n",
            "2022-01-15T20:59:55.847Z                3.36651               2                       1024.75837816      2                  31.4072                     2                             96.198                1                   24.319054637       2                  24.320544836                    2                               1483.05              2                                                                 8.9148        \n",
            "2022-01-15T20:59:56.849Z                3.36649               2                       1024.75837013      2                  31.4071                     2                             96.21                 1                   24.318991594       2                  24.320481954                    2                               1483.05              2                                                                 8.9147        \n",
            "2022-01-15T20:59:57.848Z                3.36649               2                       1024.758461375     2                  31.4071                     2                             96.23                 1                   24.318991594       2                  24.320482266                    2                               1483.05              2                                                                 8.9147        \n",
            "2022-01-15T20:59:58.848Z                3.36647               2                       1024.75850353      2                  31.407                      2                             96.253                1                   24.318928551       2                  24.320419555                    2                               1483.05              2                                                                 8.9146        \n",
            "2022-01-15T20:59:59.848Z                3.36648               2                       1024.758700314     2                  31.4071                     2                             96.279                1                   24.319006785       2                  24.320498198                    2                               1483.05              2                                                                 8.9146        \n",
            "\n",
            "                                                                                                                                                                                                                                                                                                                                                                                  use with caution; 3 = probably bad; 4 = bad; 6 = bad down-sampling; 7 = Averaged value; 8 = Interpolated Value; 9 = Missing Value (NaN). See metadata for more information.\"  \n",
            "#\"Time UTC (yyyy-mm-ddThh:mm:ss.fffZ)\"  \"Conductivity (S/m)\"  \"Conductivity QC Flag\"  \"Density (kg/m3)\"  \"Density QC Flag\"  \"Practical Salinity (psu)\"  \"Practical Salinity QC Flag\"  \"Pressure (decibar)\"  \"Pressure QC Flag\"  \"Sigma-t (kg/m3)\"  \"Sigma-t QC Flag\"  \"Sigma-theta (0 dbar) (kg/m3)\"  \"Sigma-theta (0 dbar) QC Flag\"  \"Sound Speed (m/s)\"  \"Sound Speed QC Flag\"                              \"Temperature QC Flag\"                                                                                                                             \n",
            "## END HEADER                          NaN                   NaN                     NaN                NaN                NaN                         NaN                           NaN                   NaN                 NaN                NaN                NaN                             NaN                             NaN                  NaN                                                                   NaN                                                                                                                             \n",
            "2022-01-15T15:00:00.399Z                3.37988               2                       1024.614734183     2                  31.2835                     2                             96.023                1                   24.176711697       2                  24.178258528                    2                               1484                 2                                                                      1                                                                                                                             \n",
            "2022-01-15T15:00:01.399Z                3.37988               2                       1024.614753036     2                  31.2836                     2                             96.01                 1                   24.176789859       2                  24.178336484                    2                               1484                 2                                                                      1                                                                                                                             \n",
            "2022-01-15T15:00:02.403Z                3.37988               2                       1024.614702284     2                  31.2835                     2                             96.016                1                   24.176711697       2                  24.178258415                    2                               1484                 2                                                                      1                                                                                                                             \n",
            "...                                                                                                                                                                                                                                                                                                                                                                                                                             ...                                                                                                                             \n",
            "2022-01-15T20:59:55.847Z                3.36651               2                       1024.75837816      2                  31.4072                     2                             96.198                1                   24.319054637       2                  24.320544836                    2                               1483.05              2                                                                      1                                                                                                                             \n",
            "2022-01-15T20:59:56.849Z                3.36649               2                       1024.75837013      2                  31.4071                     2                             96.21                 1                   24.318991594       2                  24.320481954                    2                               1483.05              2                                                                      1                                                                                                                             \n",
            "2022-01-15T20:59:57.848Z                3.36649               2                       1024.758461375     2                  31.4071                     2                             96.23                 1                   24.318991594       2                  24.320482266                    2                               1483.05              2                                                                      1                                                                                                                             \n",
            "2022-01-15T20:59:58.848Z                3.36647               2                       1024.75850353      2                  31.407                      2                             96.253                1                   24.318928551       2                  24.320419555                    2                               1483.05              2                                                                      1                                                                                                                             \n",
            "2022-01-15T20:59:59.848Z                3.36648               2                       1024.758700314     2                  31.4071                     2                             96.279                1                   24.319006785       2                  24.320498198                    2                               1483.05              2                                                                      1                                                                                                                             \n",
            "\n",
            "[21602 rows x 2 columns]\n"
          ]
        }
      ]
    }
  ]
}